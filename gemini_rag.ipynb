{
 "cells": [
  {
   "cell_type": "code",
   "execution_count": 1,
   "metadata": {},
   "outputs": [],
   "source": [
    "from IPython.display import Markdown  # Import lớp Markdown từ thư viện IPython.display\n",
    "import textwrap  # Import module textwrap để định dạng văn bản\n",
    "\n",
    "def to_markdown(text):\n",
    "  \"\"\"\n",
    "  Chuyển đổi một chuỗi văn bản thành định dạng Markdown, bôi đậm toàn bộ văn bản\n",
    "  và thay thế ký tự '•' thành '  *' để tạo ra danh sách.\n",
    "\n",
    "  Args:\n",
    "      text: Chuỗi văn bản cần chuyển đổi thành Markdown.\n",
    "\n",
    "  Returns:\n",
    "      Đối tượng Markdown chứa văn bản đã được định dạng.\n",
    "  \"\"\"\n",
    "  text = text.replace('•', '  *')  # Thay thế ký tự '•' thành '  *' để tạo mục danh sách\n",
    "  return Markdown(textwrap.indent(text, '> ', predicate=lambda _: True))  # Bôi đậm toàn bộ văn bản bằng textwrap.indent()"
   ]
  },
  {
   "cell_type": "code",
   "execution_count": 2,
   "metadata": {},
   "outputs": [
    {
     "name": "stderr",
     "output_type": "stream",
     "text": [
      "c:\\Users\\ngvul\\AppData\\Local\\Programs\\Python\\Python312\\Lib\\site-packages\\tqdm\\auto.py:21: TqdmWarning: IProgress not found. Please update jupyter and ipywidgets. See https://ipywidgets.readthedocs.io/en/stable/user_install.html\n",
      "  from .autonotebook import tqdm as notebook_tqdm\n"
     ]
    }
   ],
   "source": [
    "from langchain_google_genai import ChatGoogleGenerativeAI  # Import lớp ChatGoogleGenerativeAI từ thư viện langchain_google_genai\n",
    "from langchain import PromptTemplate  # Import lớp PromptTemplate từ thư viện langchain\n",
    "from langchain.chains.question_answering import load_qa_chain  # Import hàm load_qa_chain từ thư viện langchain.chains.question_answering\n",
    "from langchain.document_loaders import PyPDFLoader  # Import lớp PyPDFLoader từ thư viện langchain.document_loaders\n",
    "from langchain.text_splitter import RecursiveCharacterTextSplitter  # Import lớp RecursiveCharacterTextSplitter từ thư viện langchain.text_splitter\n",
    "from langchain.vectorstores import Chroma  # Import lớp Chroma từ thư viện langchain.vectorstores\n",
    "from langchain.chains import RetrievalQA  # Import lớp RetrievalQA từ thư viện langchain.chains\n",
    "\n",
    "GOOGLE_API_KEY = \"\"  # Khởi tạo biến GOOGLE_API_KEY với API Key của Google Cloud\n",
    "\n",
    "# Tạo mô hình Google Generative AI sử dụng Gemini-Pro\n",
    "model = ChatGoogleGenerativeAI(\n",
    "    model=\"gemini-pro\",  # Sử dụng mô hình Gemini-Pro\n",
    "    google_api_key=GOOGLE_API_KEY,  # Cung cấp API Key của Google Cloud\n",
    "    temperature=0.2,  # Điều chỉnh nhiệt độ của mô hình (temperature)\n",
    "    convert_system_message_to_human=True  # Chuyển đổi tin nhắn hệ thống sang tin nhắn của người dùng\n",
    ")"
   ]
  },
  {
   "cell_type": "code",
   "execution_count": 3,
   "metadata": {},
   "outputs": [
    {
     "name": "stdout",
     "output_type": "stream",
     "text": [
      "Mặt tích cực: \n",
      "Giá cả phải chăng: Bangkok là điểm đến lý tưởng cho du khách muốn du lịch tiết kiệm. \n",
      "Nét văn hóa độc đáo: Nơi kết hợp giữa văn hóa truyền thống Thái Lan với ảnh hưởng của văn \n",
      "hóa phương Tây. \n",
      "Thực phẩm ngon và đa dạng: Từ món ăn đường phố đến các nhà hàng sang trọng, Bangkok \n",
      "là thiên đường ẩm thực. \n",
      "Nhiều điểm du lịch hấp dẫn: Chùa Phật Ngọc, Cung điện Hoàng gia, chợ nổi Damnoen \n",
      "Saduak, khu phố đèn đỏ Patpong... \n",
      "Giao thông thuận tiện: Hệ thống xe tuk tuk, taxi, tàu điện ngầm tiện lợi. \n",
      "Mặt tiêu cực: \n",
      "Ô nhiễm không khí: Bangkok là một trong những thành phố ô nhiễm nhất thế giới. \n",
      "Lừa đảo du khách: Khách du lịch cần đề phòng các trường hợp lừa đảo, chặt chém giá. \n",
      "Khí hậu nóng ẩm: Bangkok có khí hậu nhiệt đới nóng ẩm, đặc biệt là vào mùa mưa. \n",
      "3. Bali, Indonesia: \n",
      "Mặt tích cực: \n",
      "Thiên nhiên tuyệt đẹp: Bali nổi tiếng với những bãi biển cát trắng, rừng nhiệt đới, núi lửa \n",
      "hùng vĩ. \n",
      "Văn hóa độc đáo: Bali có nền văn hóa Hindu giáo độc đáo, với những ngôi đền cổ kính và \n",
      "nghi lễ truyền thống. \n",
      "Giá cả phải chăng: Bali là điểm đến du lịch lý tưởng cho những người muốn nghỉ dưỡng với \n",
      "chi phí hợp lý. \n",
      "Nhiều hoạt động du lịch: Từ lướt sóng, lặn biển, trekking đến yoga, thiền định, Bali có nhiều \n",
      "hoạt động hấp dẫn. \n",
      "Mặt tiêu cực: \n",
      "Du lịch quá tải: Bali ngày càng đông khách du lịch, đặc biệt là vào mùa cao điểm. \n",
      "Vấn đề môi trường: Du lịch phát triển quá nhanh đã gây ra nhiều vấn đề về môi trường ở \n",
      "Bali. \n",
      "Khó khăn trong việc giao tiếp: Người dân địa phương thường không nói tiếng Anh.\n"
     ]
    }
   ],
   "source": [
    "pdf_loader = PyPDFLoader(f\"./data_source/dulieudulich.pdf\")  # Tạo đối tượng PyPDFLoader để đọc file PDF\n",
    "pages = pdf_loader.load_and_split()  # Đọc và chia file PDF thành các trang riêng biệt\n",
    "print(pages[3].page_content)  # In ra nội dung của trang thứ 4 (trang có index là 3) trong file PDF"
   ]
  },
  {
   "cell_type": "code",
   "execution_count": 4,
   "metadata": {},
   "outputs": [
    {
     "data": {
      "text/plain": [
       "31"
      ]
     },
     "execution_count": 4,
     "metadata": {},
     "output_type": "execute_result"
    }
   ],
   "source": [
    "len(pages)"
   ]
  },
  {
   "cell_type": "code",
   "execution_count": 5,
   "metadata": {},
   "outputs": [],
   "source": [
    "from langchain_community.vectorstores import FAISS  # Import lớp FAISS từ thư viện langchain_community.vectorstores\n",
    "from langchain_google_genai import GoogleGenerativeAIEmbeddings  # Import lớp GoogleGenerativeAIEmbeddings từ thư viện langchain_google_genai\n",
    "import google.generativeai as genai  # Import thư viện google.generativeai để sử dụng Google Generative AI API\n",
    "import os  # Import thư viện os để thao tác với hệ thống file\n",
    "from dotenv import load_dotenv  # Import thư viện dotenv để load biến môi trường từ file .env\n",
    "\n",
    "load_dotenv()  # Load biến môi trường từ file .env\n",
    "genai.configure(api_key=os.getenv(\"GOOGLE_API_KEY\"))  # Cấu hình Google Generative AI API với API Key\n",
    "\n",
    "# Khởi tạo mô hình embedding\n",
    "embeddings = GoogleGenerativeAIEmbeddings(model=\"models/embedding-001\")  # Sử dụng mô hình \"models/embedding-001\" của Google Generative AI\n",
    "\n",
    "# Tải index FAISS từ file \"faiss_index\"\n",
    "new_db = FAISS.load_local(\n",
    "    \"faiss_index\", embeddings, allow_dangerous_deserialization=True  # Cho phép giải mã không an toàn\n",
    ")"
   ]
  },
  {
   "cell_type": "code",
   "execution_count": 6,
   "metadata": {},
   "outputs": [
    {
     "data": {
      "text/plain": [
       "GoogleGenerativeAIEmbeddings(client=<google.ai.generativelanguage_v1beta.services.generative_service.client.GenerativeServiceClient object at 0x0000020F7FAF0620>, model='models/embedding-001', task_type=None, google_api_key=None, credentials=None, client_options=None, transport=None, request_options=None)"
      ]
     },
     "execution_count": 6,
     "metadata": {},
     "output_type": "execute_result"
    }
   ],
   "source": [
    "new_db.embedding_function"
   ]
  },
  {
   "cell_type": "code",
   "execution_count": 7,
   "metadata": {},
   "outputs": [
    {
     "data": {
      "text/plain": [
       "Document(page_content='bay đẹp, mạng lưới bay rộng khắp khu vực châu Á Thái Bình Dương và các nước khác. \\nVirgin Australia (Úc): Hãng hàng không lớn thứ hai Úc, nổi tiếng với dịch vụ tốt, nội thất máy \\nbay đẹp, mạng lưới bay rộng khắp khu vực châu Á Thái Bình Dương và các nước khác. \\nLưu ý: Danh sách này chỉ là một số hãng hàng không uy tín ở các quốc gia 5 châu lục. Bạn \\nnên kiểm tra kỹ thông tin về giá vé, dịch vụ, chính sách hành lý và đánh giá của khách hàng \\ntrước khi đặt vé. \\n \\nUser \\nchi tiết ở trung quốc , thái lan , hàn quốc, anh , mỹ , pháp , ấn độ hơn nnữaddi \\n \\nModel \\n17.1s \\nChi tiết Hãng Hàng Không Uy Tín ở một số quốc gia: \\nTrung Quốc: \\nAir China: Hãng hàng không quốc gia Trung Quốc, mạng lưới bay rộng khắp trong và ngoài \\nnước. Nổi tiếng với dịch vụ tốt, đặc biệt là đối với hành khách hạng thương gia. Họ cung cấp \\nnhiều lựa chọn giải trí trên máy bay và ẩm thực truyền thống. \\nChina Southern Airlines: Hãng hàng không lớn nhất Trung Quốc, mạng lưới bay rộng khắp, \\ncung cấp các chuyến bay nội địa và quốc tế. Họ có nhiều loại vé khác nhau để lựa chọn, từ \\ngiá rẻ đến hạng thương gia, phù hợp với nhiều đối tượng khách hàng. China Eastern Airlines: Hãng hàng không lớn thứ hai Trung Quốc, mạng lưới bay rộng khắp, \\ncó nhiều chuyến bay nội địa và quốc tế. Họ cũng cung cấp nhiều lựa chọn vé máy bay, và \\ndịch vụ khách hàng tốt. \\nSpring Airlines: Hãng hàng không giá rẻ lớn nhất Trung Quốc, nổi tiếng với giá vé thấp và \\ndịch vụ cơ bản tốt. Tuy nhiên, bạn nên chuẩn bị trả thêm cho các dịch vụ phụ thêm. \\nThái Lan: \\nThai Airways: Hãng hàng không quốc gia Thái Lan, nổi tiếng với dịch vụ tốt, nội thất máy bay \\nđẹp, ẩm thực ngon, và thái độ phục vụ chuyên nghiệp. Họ cung cấp nhiều lựa chọn giải trí \\ntrên máy bay và dịch vụ chăm sóc khách hàng tốt. \\nBangkok Airways: Hãng hàng không tư nhân của Thái Lan, nổi tiếng với dịch vụ cao cấp, nội \\nthất máy bay đẹp, ẩm thực ngon, và chuyến bay tới các điểm đến du lịch nổi tiếng của Thái \\nLan. \\nAirAsia: Hãng hàng không giá rẻ của Malaysia, có nhiều chuyến bay tới Thái Lan. Họ cung \\ncấp giá vé thấp, tuy nhiên dịch vụ cơ bản và không gian chỗ ngồi có thể không như mong \\nđợi. \\nHàn Quốc: \\nKorean Air: Hãng hàng không quốc gia Hàn Quốc, nổi tiếng với dịch vụ tốt, nội thất máy bay \\nhiện đại, ẩm thực ngon, và chuyến bay tới các điểm đến du lịch nổi tiếng của Hàn Quốc. \\nAsiana Airlines: Hãng hàng không lớn thứ hai Hàn Quốc, cung cấp dịch vụ tốt, nội thất máy \\nbay hiện đại và mạng lưới bay rộng khắp. \\nJin Air: Hãng hàng không giá rẻ của Hàn Quốc, cung cấp giá vé thấp, tuy nhiên dịch vụ cơ \\nbản và không gian chỗ ngồi có thể không như mong đợi. \\nAnh: \\nBritish Airways: Hãng hàng không quốc gia Anh, nổi tiếng với dịch vụ tốt, nội thất máy bay \\nhiện đại, mạng lưới bay rộng khắp thế giới. \\nVirgin Atlantic: Hãng hàng không tư nhân của Anh, cung cấp dịch vụ tốt, nội thất máy bay \\nhiện đại và mạng lưới bay rộng khắp. \\neasyJet: Hãng hàng không giá rẻ của Anh, cung cấp giá vé thấp, tuy nhiên dịch vụ cơ bản và \\nkhông gian chỗ ngồi có thể không như mong đợi. \\nMỹ: United Airlines: Hãng hàng không lớn nhất nước Mỹ, mạng lưới bay rộng khắp nước Mỹ và \\ncác nước khác, dịch vụ tốt, nổi tiếng với độ an toàn cao. \\nAmerican Airlines: Hãng hàng không lớn thứ hai nước Mỹ, mạng lưới bay rộng khắp nước Mỹ \\nvà các nước khác, dịch vụ tốt, nổi tiếng với độ an toàn cao. \\nDelta Air Lines: Hãng hàng không lớn thứ ba nước Mỹ, mạng lưới bay rộng khắp nước Mỹ và \\ncác nước khác, dịch vụ tốt, nổi tiếng với độ an toàn cao. \\nSouthwest Airlines: Hãng hàng không giá rẻ lớn nhất nước Mỹ, nổi tiếng với giá vé thấp và \\ndịch vụ cơ bản tốt. Tuy nhiên, bạn nên chuẩn bị trả thêm cho các dịch vụ phụ thêm. \\nPháp: \\nAir France: Hãng hàng không quốc gia của Pháp, nổi tiếng với dịch vụ tốt, nội thất máy bay \\nđẹp, ẩm thực ngon và chuyến bay tới các điểm đến du lịch nổi tiếng của Pháp. \\nTransavia: Hãng hàng không giá rẻ của Pháp, cung cấp giá vé thấp, tuy nhiên dịch vụ cơ bản \\nvà không gian chỗ ngồi có thể không như mong đợi. \\nẤn Độ: \\nAir India: Hãng hàng không quốc gia Ấn Độ, mạng lưới bay rộng khắp trong và ngoài nước. \\nNổi tiếng với dịch vụ tốt, đặc biệt là đối với hành khách hạng thương gia. \\nIndiGo: Hãng hàng không giá rẻ lớn nhất Ấn Độ, cung cấp giá vé thấp, tuy nhiên dịch vụ cơ \\nbản và không gian chỗ ngồi có thể không như mong đợi. \\nLưu ý: Danh sách này chỉ là một số hãng hàng không uy tín ở các quốc gia trên. Bạn nên \\nkiểm tra kỹ thông tin về giá vé, dịch vụ, chính sách hành lý và đánh giá của khách hàng trước \\nkhi đặt vé.[ \\nDưới đây là một số hãng hàng không nổi tiếng toàn cầu, được biết đến với chất lượng dịch \\nvụ, an toàn, và mạng lưới bay rộng khắp: \\nHãng hàng không 5 sao: \\nSingapore Airlines: Hãng hàng không quốc gia Singapore, nổi tiếng với dịch vụ cao cấp, \\nmạng lưới bay rộng khắp thế giới và được đánh giá cao về độ an toàn. \\nQatar Airways: Hãng hàng không quốc gia Qatar, nổi tiếng với nội thất máy bay sang trọng, \\ndịch vụ chu đáo, mạng lưới bay rộng khắp toàn cầu và dịch vụ giải trí đa dạng. \\nEmirates (UAE): Hãng hàng không quốc gia UAE, nổi tiếng với nội thất máy bay sang trọng, \\ndịch vụ chu đáo, mạng lưới bay rộng khắp toàn cầu. Cathay Paciﬁc (Hồng Kông): Hãng hàng không quốc tế uy tín, dịch vụ chất lượng, mạng lưới \\nbay rộng khắp khu vực châu Á và các nước khác. \\nQantas Airways (Úc): Hãng hàng không quốc gia Úc, nổi tiếng với dịch vụ tốt, nội thất máy \\nbay đẹp, mạng lưới bay rộng khắp khu vực châu Á Thái Bình Dương và các nước khác. \\nANA All Nippon Airways (Nhật Bản): Hãng hàng không lớn nhất Nhật Bản, nổi tiếng với dịch \\nvụ tốt, nội thất máy bay hiện đại, mạng lưới bay rộng khắp khu vực châu Á và các nước \\nkhác. \\nSwiss International Air Lines (Thụy Sĩ): Hãng hàng không quốc gia Thụy Sĩ, nổi tiếng với dịch \\nvụ tốt, nội thất máy bay sang trọng, mạng lưới bay rộng khắp thế giới. \\nHãng hàng không 4 sao: \\nLufthansa (Đức): Hãng hàng không quốc gia Đức, mạng lưới bay rộng khắp châu Âu và các \\nnước khác, dịch vụ tốt, nổi tiếng với độ an toàn cao. \\nBritish Airways (Anh): Hãng hàng không quốc gia Anh, mạng lưới bay rộng khắp thế giới, \\ndịch vụ tốt, nội thất máy bay hiện đại. \\nAir France (Pháp): Hãng hàng không quốc gia Pháp, nổi tiếng với dịch vụ tốt, nội thất máy \\nbay đẹp, mạng lưới bay rộng khắp thế giới. \\nKorean Air (Hàn Quốc): Hãng hàng không quốc gia Hàn Quốc, nổi tiếng với dịch vụ tốt, nội \\nthất máy bay hiện đại, mạng lưới bay rộng khắp khu vực châu Á và các nước khác. \\nThai Airways (Thái Lan): Hãng hàng không quốc gia Thái Lan, nổi tiếng với dịch vụ tốt, nội \\nthất máy bay đẹp, mạng lưới bay rộng khắp khu vực châu Á và các nước khác. \\nJapan Airlines (Nhật Bản): Hãng hàng không quốc gia Nhật Bản, nổi tiếng với dịch vụ tốt, nội \\nthất máy bay hiện đại, mạng lưới bay rộng khắp khu vực châu Á và các nước khác. \\nUnited Airlines (Hoa Kỳ): Hãng hàng không lớn nhất nước Mỹ, mạng lưới bay rộng khắp nước \\nMỹ và các nước khác, dịch vụ tốt, nổi tiếng với độ an toàn cao. \\nAmerican Airlines (Hoa Kỳ): Hãng hàng không lớn thứ hai nước Mỹ, mạng lưới bay rộng khắp \\nnước Mỹ và các nước khác, dịch vụ tốt, nổi tiếng với độ an toàn cao. \\nDelta Air Lines (Hoa Kỳ): Hãng hàng không lớn thứ ba nước Mỹ, mạng lưới bay rộng khắp \\nnước Mỹ và các nước khác, dịch vụ tốt, nổi tiếng với độ an toàn cao.')"
      ]
     },
     "execution_count": 7,
     "metadata": {},
     "output_type": "execute_result"
    }
   ],
   "source": [
    "query = \"Hãng hành không Vietjet\"\n",
    "docs = new_db.similarity_search(query)\n",
    "docs[0]"
   ]
  },
  {
   "cell_type": "code",
   "execution_count": 8,
   "metadata": {},
   "outputs": [],
   "source": [
    "qa_chain = RetrievalQA.from_chain_type(\n",
    "    llm=model,  # Cung cấp mô hình ngôn ngữ lớn (LLM) cho chuỗi câu hỏi-trả lời\n",
    "    chain_type=\"stuff\",  # Sử dụng kiểu chuỗi \"stuff\" để kết hợp câu hỏi và tài liệu tìm kiếm vào prompt của LLM\n",
    "    retriever=new_db.as_retriever(search_kwargs={\"k\": 1}),  # Sử dụng index FAISS đã được tải để tìm kiếm tài liệu liên quan\n",
    "    return_source_documents=True  # Trả về tài liệu nguồn được sử dụng để trả lời câu hỏi\n",
    ")"
   ]
  },
  {
   "cell_type": "code",
   "execution_count": 9,
   "metadata": {},
   "outputs": [
    {
     "name": "stderr",
     "output_type": "stream",
     "text": [
      "c:\\Users\\ngvul\\AppData\\Local\\Programs\\Python\\Python312\\Lib\\site-packages\\langchain_google_genai\\chat_models.py:345: UserWarning: Convert_system_message_to_human will be deprecated!\n",
      "  warnings.warn(\"Convert_system_message_to_human will be deprecated!\")\n"
     ]
    },
    {
     "data": {
      "text/plain": [
       "{'query': 'Phú sĩ',\n",
       " 'result': 'Tôi không tìm thấy thông tin về món ăn đặc sản của Phú Thọ trong đoạn văn này.',\n",
       " 'source_documents': [Document(page_content='ngọt, sợi phở dai mềm. Bún chả Hà Nội với bún trắng, chả nướng thơm ngon, nước chấm \\nchua ngọt. Bánh cuốn Hà Nội với lớp vỏ mỏng, nhân thịt mộc nhĩ thơm ngon. Bánh giò Hà \\nNội với phần vỏ dẻo, nhân thịt nạc, mộc nhĩ hấp dẫn. Ngoài ra, còn có rất nhiều món ăn đặc \\nsản như bún thang, chả cá Lã Vọng, nem rán, chả quế, chè Hà Nội... \\nHải Phòng: Ẩm thực Hải Phòng mang đậm dấu ấn của biển cả với những món ăn từ hải sản \\ntươi ngon. Bánh đa cua Hải Phòng với nước dùng ngọt thanh, cua đồng thơm ngon, bánh đa \\ndai mềm. Bánh mì Hải Phòng với nhân thịt nướng, pate, chả, đồ chua... Bánh cam Hải \\nPhòng với phần vỏ giòn, nhân ngọt ngào. Ngoài ra, còn có rất nhiều món ăn đặc sản khác \\nnhư bún cá rô, chả mực, cá kho làng Vũ Đại... \\nNinh Bình: Nổi tiếng với món dê núi hấp dẫn. Dê núi Ninh Bình được chế biến thành nhiều \\nmón ăn thơm ngon như dê xào lăn, dê nướng, dê hấp lá chanh... Bên cạnh đó, Ninh Bình \\ncòn có những món ăn đặc sản khác như cơm cháy Ninh Bình, chả cá thác lác, nem chua... \\nVĩnh Phúc: Nổi tiếng với món vịt om sấu hấp dẫn, thịt vịt mềm ngọt, sấu chua chua thanh \\nmát. Ngoài ra, Vĩnh Phúc còn có những món ăn đặc sản khác như bún ốc, bún đậu mắm \\ntôm, bánh gai... \\nMiền Trung: \\nHuế: Ẩm thực Huế mang đậm nét văn hóa cung đình, được biết đến với sự tinh tế, cầu kỳ và \\nhương vị độc đáo. Bún bò Huế với nước dùng đậm đà, thịt bò mềm ngọt, bún dai mềm. \\nBánh xèo Huế với lớp vỏ mỏng giòn, nhân tôm, thịt, giá đỗ thơm ngon. Cơm hến Huế với \\ncơm trắng, hến xào thơm ngon, rau sống tươi mát. Ngoài ra, còn có rất nhiều món ăn đặc \\nsản khác như bánh bèo, bánh nậm, bánh lọc, bánh ít... \\nĐà Nẵng: Được mệnh danh là \"thành phố đáng sống\", Đà Nẵng cũng là thiên đường ẩm \\nthực với những món ăn đường phố hấp dẫn. Bánh tráng cuốn thịt heo Đà Nẵng với bánh \\ntráng mỏng, nhân thịt heo luộc, rau sống, nước chấm chua ngọt. Bún chả cá Đà Nẵng với \\nbún trắng, chả cá nướng thơm ngon, nước chấm chua ngọt. Mì Quảng Đà Nẵng với nước \\ndùng đậm đà, thịt gà, tôm, cá, rau củ... Ngoài ra, Đà Nẵng còn có rất nhiều món ăn đặc sản \\nkhác như bún mắm nêm, bánh mì chảo, gỏi cuốn... \\nQuảng Nam: Nổi tiếng với món mì Quảng, với nước dùng đậm đà, thịt gà, tôm, cá, rau củ... \\nNgoài ra, Quảng Nam còn có những món ăn đặc sản khác như cao lầu, bánh tráng cuốn thịt \\nheo, nem lụi, bánh ít lá gai... Quảng Ngãi: Nổi tiếng với món cá chuồn, được chế biến thành nhiều món ăn thơm ngon \\nnhư cá chuồn kho tiêu, cá chuồn chiên giòn, cá chuồn hấp... Ngoài ra, Quảng Ngãi còn có \\nnhững món ăn đặc sản khác như bún cá, bánh xèo, bánh bèo... \\nMiền Nam: \\nTP. Hồ Chí Minh: Nổi tiếng với ẩm thực đường phố đa dạng và phong phú. Bánh mì chảo Sài \\nGòn với bánh mì giòn, nhân thịt, trứng, rau củ... Bún bò Huế Sài Gòn với nước dùng đậm đà, \\nthịt bò mềm ngọt, bún dai mềm. Gỏi cuốn Sài Gòn với lớp vỏ bánh tráng mỏng, nhân là thịt, \\ntôm, rau củ... Ngoài ra, Sài Gòn còn có rất nhiều món ăn đặc sản khác như hủ tiếu, bún \\nmắm, bún riêu, bánh canh... \\nCần Thơ: Nổi tiếng với ẩm thực miệt vườn, được biết đến với những món ăn giản dị, ngon \\nmiệng. Bún mắm Cần Thơ với bún trắng, nước mắm chua ngọt, thịt heo luộc, rau sống tươi \\nmát. Bánh xèo Cần Thơ với lớp vỏ mỏng giòn, nhân tôm, thịt, giá đỗ thơm ngon. Lẩu mắm \\nCần Thơ với nước dùng đậm đà, nhiều loại cá, thịt, rau củ... Ngoài ra, Cần Thơ còn có rất \\nnhiều món ăn đặc sản khác như bún nước lèo, bánh tét, bánh ít lá gai... \\nBến Tre: Nổi tiếng với món bánh tráng dừa, với lớp bánh tráng mỏng, nhân dừa ngọt ngào. \\nBên cạnh đó, Bến Tre còn có những món ăn đặc sản khác như bún chả cá, bánh khọt, bánh \\ncam... \\nCà Mau: Nổi tiếng với món cá kèo, được chế biến thành nhiều món ăn thơm ngon như cá \\nkèo kho tiêu, cá kèo chiên giòn, cá kèo hấp... Ngoài ra, Cà Mau còn có những món ăn đặc \\nsản khác như bún riêu, bánh xèo, bánh bèo... \\nẨm thực Việt Nam là một hành trình khám phá đầy thú vị, mỗi vùng miền đều mang đến cho \\nthực khChâu Á: Khám Phá Vô Tận \\nChâu Á, lục địa rộng lớn và đa dạng, là một thiên đường cho những tâm hồn yêu du lịch. Từ \\nnhững đỉnh núi tuyết phủ trắng xóa đến những bãi biển cát trắng trải dài, từ những thành \\nphố sôi động đến những ngôi làng yên bình, châu Á mang trong mình một sức hút kỳ lạ, \\nkhiến du khách muốn khám phá mãi không thôi. \\nNhững Kỳ Quan Thiên Nhiên Huy Hoàng: \\nEverest, Nepal & Trung Quốc: Nổi tiếng là \"Nóc nhà thế giới\", đỉnh Everest thu hút những \\nnhà leo núi phiêu lưu và những ai muốn thử thách giới hạn bản thân. \\nVịnh Hạ Long, Việt Nam: Được UNESCO công nhận là Di sản Thế giới, Vịnh Hạ Long với \\nhàng ngàn hòn đảo đá vôi kỳ vĩ tạo nên một khung cảnh ngoạn mục. \\nĐảo Jeju, Hàn Quốc: Nổi tiếng với những thác nước hùng vĩ, những cánh đồng hoa oải \\nhương và núi lửa Halla hùng vĩ, Jeju là điểm đến lý tưởng cho những ai yêu thiên nhiên. Maldives: Nằm giữa Ấn Độ Dương, Maldives nổi tiếng với những bãi biển cát trắng, những \\nrạn san hô đầy màu sắc và những khu nghỉ dưỡng sang trọng. \\nPhuket, Thái Lan: Được mệnh danh là \"Hòn đảo ngọc lục bảo\", Phuket với những bãi biển \\ntuyệt đẹp, những rạn san hô lung linh và cuộc sống về đêm sôi động là điểm đến hấp dẫn du \\nkhách. \\nNhững Di Sản Văn Hóa & Lịch Sử Lịch Sử: \\nAngkor Wat, Campuchia: Biểu tượng của Campuchia, Angkor Wat là một quần thể đền đài \\nKhmer cổ xưa tráng lệ, nơi thể hiện kỹ thuật kiến trúc độc đáo và những câu chuyện lịch sử \\nhào hùng. \\nThành phố Cổ Kyoto, Nhật Bản: Được mệnh danh là \"Thành phố của những ngôi đền\", Kyoto \\nlà nơi lưu giữ những di sản văn hóa truyền thống của Nhật Bản như những ngôi chùa cổ \\nkính, những khu vườn Nhật Bản thanh bình. \\nMachu Picchu, Peru: Nằm ẩn mình trên đỉnh núi Andes, Machu Picchu là thành phố cổ Inca \\nbí ẩn, được ví như \"Thành phố bị lãng quên\". \\nTaj Mahal, Ấn Độ: Được xây dựng bởi hoàng đế Shah Jahan để tưởng nhớ người vợ yêu dấu \\nMumtaz Mahal, Taj Mahal là một trong những kỳ quan kiến trúc thế giới, thể hiện tình yêu và \\nsự lãng mạn. \\nThành phố Cổ Petra, Jordan: Nằm ẩn mình giữa sa mạc, Petra là thành phố cổ xưa của \\nngười Nabataea, nổi tiếng với kiến trúc độc đáo được chạm khắc trên vách núi. \\nNhững Thành Phố Sôi Động & Hiện Đại: \\nTokyo, Nhật Bản: Nổi tiếng với những tòa nhà chọc trời, những khu mua sắm sầm uất và \\nnhững nét văn hóa truyền thống độc đáo, Tokyo là một trong những thành phố hiện đại nhất \\nthế giới. \\nSingapore: Được mệnh danh là \"Đảo quốc sư tử\", Singapore là trung tâm tài chính và du \\nlịch quốc tế, với những công trình kiến trúc hiện đại, những khu giải trí sôi động và những \\nmón ăn ngon độc đáo. \\nHong Kong: Một trung tâm kinh tế và tài chính lớn, Hong Kong hấp dẫn du khách bởi những \\ntòa nhà chọc trời, những khu mua sắm sầm uất và những khu phố cổ kính. \\nSeoul, Hàn Quốc: Nổi tiếng với những cung điện cổ kính, những khu giải trí sôi động và \\nnhững món ăn ngon hấp dẫn, Seoul là một thành phố hiện đại và đầy sức sống. \\nBangkok, Thái Lan: Thủ đô của Thái Lan, Bangkok là một thành phố sôi động với những ngôi \\nchùa cổ kính, những khu chợ truyền thống và những món ăn đường phố ngon tuyệt. Những Kinh Nghiệm Du Lịch: \\nLễ hội Holi, Ấn Độ: Là lễ hội màu sắc rực rỡ, Holi là dịp để du khách hòa mình vào không khí \\nvui tươi, rộn ràng của người dân địa phương. \\nLễ hội đèn lồng, Trung Quốc: Diễn ra vào dịp Tết Nguyên đán, lễ hội đèn lồng là một lễ hội \\ntruyền thống độc đáo, mang ý nghĩa cầu may mắn và hạnh phúc. \\nLễ hội Songkran, Thái Lan: Là lễ hội mừng năm mới của Thái Lan, Songkran là dịp để du \\nkhách trải nghiệm văn hóa độc đáo và tham gia những trò chơi truyền thống. \\nLeo núi trekking ở Nepal: Nepal là điểm đến lý tưởng cho những ai yêu thích leo núi \\ntrekking, với những đỉnh núi hùng vĩ và những khung cảnh thiên nhiên ngoạn mục. \\nLặn biển ở Maldives: Maldives là thiên đường cho những ai yêu thích lặn biển, với những rạn \\nsan hô đầy màu sắc và những loài cá nhiệt đới đa dạng. \\nNhững Món Ăn Ngon: \\nSushi, Nhật Bản: Sushi là món ăn truyền thống của Nhật Bản, với những miếng cá tươi ngon \\nđược cuộn trong cơm. \\nRamen, Nhật Bản: Ramen là món mì Nhật Bản, với nước dùng đậm đà và topping đa dạng. \\nPad Thai, Thái Lan: Pad Thai là món mì xào Thái Lan, với vị chua ngọt đậm đà và các loại \\ntopping hấp dẫn. \\nKimchi, Hàn Quốc: Kimchi là món ăn lên men của Hàn Quốc, với vị chua cay đặc trưng và \\nnhiều lợi ích cho sức khỏe. \\nBánh mì, Việt Nam: Bánh mì là món ăn đường phố phổ biến ở Việt Nam, với những loại nhân \\nđa dạng và hương vị thơm ngon. \\nNhững Điểm Du Lịch Khác: \\nLàng cổ Hoi An, Việt Nam: Là một địa điểm du lịch nổi tiếng, Hoi An với những ngôi nhà cổ \\nkính, những con phố nhỏ xinh và những món ăn ngon là điểm đến hấp dẫn du khách. \\nLàng cổ Shirakawa-go, Nhật Bản: Là một ngôi làng cổ xưa với những ngôi nhà truyền thống \\nđộc đáo, Shirakawa-go là điểm đến lý tưởng cho những ai yêu thích văn hóa truyền thống \\nNhật Bản. \\nĐảo Bali, Indonesia: Được mệnh danh là \"Hòn đảo của các vị thần\", Bali với những bãi biển \\nđẹp, những ngôi chùa cổ kính và những lễ hội truyền thống độc đáo là điểm đến lý tưởng \\ncho những ai muốn tìm kiếm sự bình yên và thiền định. Làng cổ Gion, Nhật Bản: Là một khu phố cổ với những geisha truyền thống, Gion là điểm \\nđến hấp dẫn du khách muốn khám phá văn hóa truyền thống Nhật Bản. \\nĐảo Jeju, Hàn Quốc: Nổi tiếng với những thác nước hùng vĩ, những cánh đồng hoa oải \\nhương và núi lửa Halla hùng vĩ, Jeju là điểm đến lý tưởng cho những ai yêu thiên nhiên. \\nNhững Câu Chuyện Về Châu Á: \\nChâu Á là nơi lưu giữ những câu chuyện lịch sử hào hùng, những huyền thoại thần thoại đầy \\nbí ẩn và những truyền thuyết văn hóa độc đáo. Từ những câu chuyện về vị thần Shiva trong \\nHindu giáo đến những câu chuyện về con rồng trong văn hóa Trung Quốc, châu Á là một thế \\ngiới đầy bất ngờ và hấp dẫn. \\nCâu chuyện về vị thần Shiva trong Hindu giáo: Shiva là một trong những vị thần chính trong \\nHindu giáo, được tôn thờ là vị thần của sự hủy diệt và tái tạo. \\nCâu chuyện về con rồng trong văn hóa Trung Quốc: Con rồng là biểu tượng của quyền lực, \\nsức mạnh và may mắn trong văn hóa Trung Quốc. \\nTruyền thuyết về nàng tiên cá ở Nhật Bản: Nàng tiên cá là một sinh vật huyền thoại trong \\nvăn hóa Nhật Bản, được cho là có sức mạnh siêu nhiên.')]}"
      ]
     },
     "execution_count": 9,
     "metadata": {},
     "output_type": "execute_result"
    }
   ],
   "source": [
    "question = \"Phú sĩ\"  # Khai báo câu hỏi\n",
    "result = qa_chain.invoke({\"query\": question})  # Gọi chuỗi câu hỏi-trả lời với câu hỏi\n",
    "result  # Hiển thị kết quả"
   ]
  },
  {
   "cell_type": "code",
   "execution_count": 10,
   "metadata": {},
   "outputs": [
    {
     "name": "stderr",
     "output_type": "stream",
     "text": [
      "c:\\Users\\ngvul\\AppData\\Local\\Programs\\Python\\Python312\\Lib\\site-packages\\langchain_google_genai\\chat_models.py:345: UserWarning: Convert_system_message_to_human will be deprecated!\n",
      "  warnings.warn(\"Convert_system_message_to_human will be deprecated!\")\n"
     ]
    },
    {
     "data": {
      "text/plain": [
       "'**Du lịch Châu Á**\\n\\nChâu Á là một lục địa rộng lớn và đa dạng, với những danh lam thắng cảnh tuyệt đẹp, những di sản văn hóa lịch sử hào hùng và những câu chuyện hấp dẫn. Du lịch Châu Á là một trải nghiệm tuyệt vời, mang lại những kỷ niệm đáng nhớ và những bài học quý giá về văn hóa, lịch sử và con người.\\n\\n**Những điểm đến du lịch nổi tiếng**\\n\\nChâu Á có rất nhiều điểm đến du lịch nổi tiếng, từ những thành phố hiện đại như Tokyo, Seoul và Singapore đến những địa điểm lịch sử như Vạn Lý Trường Thành và Angkor Wat. Một số điểm đến du lịch nổi tiếng nhất bao gồm:\\n\\n* **Trung Quốc:** Vạn Lý Trường Thành, Tử Cấm Thành, Đội quân đất nung\\n* **Nhật Bản:** Tokyo, Kyoto, Núi Phú Sĩ\\n* **Hàn Quốc:** Seoul, Đảo Jeju, Cung điện Gyeongbokgung\\n* **Thái Lan:** Bangkok, Phuket, Vịnh Phang Nga\\n* **Việt Nam:** Hà Nội, Thành phố Hồ Chí Minh, Vịnh Hạ Long\\n* **Campuchia:** Angkor Wat, Siem Reap, Đền Banteay Srei\\n* **Ấn Độ:** Taj Mahal, Cung điện Umaid Bhawan, Đền Vàng\\n* **Indonesia:** Bali, Borobudur, Đền Prambanan\\n\\n**Những loại hình du lịch**\\n\\nChâu Á cung cấp nhiều loại hình du lịch khác nhau, từ du lịch văn hóa đến du lịch phiêu lưu. Một số loại hình du lịch phổ biến nhất bao gồm:\\n\\n* **Du lịch văn hóa:** Khám phá những di sản văn hóa phong phú của Châu Á, từ những ngôi chùa cổ kính đến những cung điện tráng lệ.\\n* **Du lịch thiên nhiên:** Khám phá những cảnh quan thiên nhiên tuyệt đẹp của Châu Á, từ những bãi biển nhiệt đới đến những đỉnh núi hùng vĩ.\\n* **Du lịch phiêu lưu:** Trải nghiệm những hoạt động phiêu lưu như leo núi, đi bộ đường dài và lặn biển.\\n* **Du lịch ẩm thực:** Thưởng thức những món ăn ngon và đa dạng của Châu Á, từ những món ăn đường phố bình dân đến những bữa tiệc hoàng gia sang trọng.\\n* **Du lịch mua sắm:** Mua sắm những sản phẩm độc đáo và giá rẻ tại các chợ truyền thống và trung tâm mua sắm hiện đại.\\n\\n**Những mẹo du lịch**\\n\\nĐể có một chuyến du lịch Châu Á an toàn và thú vị, hãy lưu ý những mẹo sau:\\n\\n* **Xin visa nếu cần:** Kiểm tra xem bạn có cần xin visa để đến quốc gia bạn muốn đến không.\\n* **Học một số cụm từ tiếng địa phương:** Học một số cụm từ tiếng địa phương cơ bản để giao tiếp dễ dàng hơn.\\n* **Tôn trọng văn hóa địa phương:** Tìm hiểu về phong tục và truyền thống địa phương để tránh những hiểu lầm văn hóa.\\n* **Chuẩn bị hành lý phù hợp:** Chuẩn bị hành lý phù hợp với khí hậu và địa hình của địa điểm du lịch.\\n* **Lưu ý an toàn:** Cẩn thận với đồ đạc của bạn và tránh đi một mình vào ban đêm.\\n\\n**Những điều cần lưu ý**\\n\\nKhi du lịch Châu Á, hãy lưu ý những điều sau:\\n\\n* **Sự đông đúc:** Châu Á là một lục địa đông dân, vì vậy hãy chuẩn bị cho những đám đông ở các điểm du lịch nổi tiếng.\\n* **Ô nhiễm không khí:** Một số thành phố lớn ở Châu Á có vấn đề về ô nhiễm không khí, vì vậy hãy mang theo khẩu trang nếu cần.\\n* **Sự khác biệt về văn hóa:** Châu Á là một lục địa đa dạng về văn hóa, vì vậy hãy tôn trọng những khác biệt về văn hóa và tránh những hành vi thiếu tôn trọng.\\n\\n**Kết luận**\\n\\nChâu Á là một điểm đến du lịch hấp dẫn với nhiều điều để khám phá. Từ những thành phố hiện đại đến những địa điểm lịch sử, từ những cảnh quan thiên nhiên tuyệt đẹp đến những nền văn hóa phong phú, Châu Á có một cái gì đó dành cho mọi du khách. Hãy lên kế hoạch cho chuyến du lịch Châu Á của bạn ngay hôm nay và trải nghiệm những điều tuyệt vời mà lục địa này mang lại.'"
      ]
     },
     "execution_count": 10,
     "metadata": {},
     "output_type": "execute_result"
    }
   ],
   "source": [
    "template = \"\"\"Use the following pieces of context to answer the question at the end. If you don't know the answer, just say that you don't know, don't try to make up an answer. Keep the answer as concise as possible. Always say \"thanks for asking!\" at the end of the answer.\n",
    "{context}\n",
    "Question: {question}\n",
    "Helpful Answer:\"\"\"\n",
    "\n",
    "QA_CHAIN_PROMPT = PromptTemplate.from_template(template)  # Tạo prompt template\n",
    "\n",
    "qa_chain = RetrievalQA.from_chain_type(\n",
    "    model,  # Mô hình ngôn ngữ lớn (LLM) được sử dụng\n",
    "    retriever=new_db.as_retriever(search_kwargs={\"k\": 3}),  # Sử dụng index FAISS để tìm kiếm 3 tài liệu liên quan nhất\n",
    "    return_source_documents=True,  # Trả về tài liệu nguồn được sử dụng để trả lời câu hỏi\n",
    "    chain_type_kwargs={\"prompt\": QA_CHAIN_PROMPT}  # Sử dụng prompt template đã tạo\n",
    ")\n",
    "\n",
    "question = \"Tell me about tourism in Asia\"  # Câu hỏi \n",
    "result = qa_chain.invoke({\"query\": question})  # Gọi chuỗi QA chain với câu hỏi\n",
    "result[\"result\"]  # Lấy câu trả lời từ kết quả"
   ]
  }
 ],
 "metadata": {
  "kernelspec": {
   "display_name": "Python 3",
   "language": "python",
   "name": "python3"
  },
  "language_info": {
   "codemirror_mode": {
    "name": "ipython",
    "version": 3
   },
   "file_extension": ".py",
   "mimetype": "text/x-python",
   "name": "python",
   "nbconvert_exporter": "python",
   "pygments_lexer": "ipython3",
   "version": "3.12.2"
  }
 },
 "nbformat": 4,
 "nbformat_minor": 2
}
